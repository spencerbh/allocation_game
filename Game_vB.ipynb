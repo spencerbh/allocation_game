{
 "cells": [
  {
   "cell_type": "code",
   "execution_count": 1,
   "metadata": {
    "collapsed": false
   },
   "outputs": [],
   "source": [
    "import os \n",
    "import sys\n",
    "import cs50"
   ]
  },
  {
   "cell_type": "code",
   "execution_count": 2,
   "metadata": {
    "collapsed": true
   },
   "outputs": [],
   "source": [
    "def print_introductory_message():\n",
    "    print('''Congratulations, you are the newest ruler of ancient Samaria, elected\n",
    "for a ten year term of office. Your duties are to dispense food, direct\n",
    "farming, and buy and sell land as needed to support your people. Watch\n",
    "out for rat infestations and the plague! Grain is the general currency,\n",
    "measured in bushels. The following will help you in your decisions:\n",
    "\n",
    "  * Each person needs at least 20 bushels of grain per year to survive.\n",
    "\n",
    "  * Each person can farm at most 10 acres of land.\n",
    "\n",
    "  * It takes 2 bushels of grain to farm an acre of land.\n",
    "\n",
    "  * The market price for land fluctuates yearly.\n",
    "\n",
    "Rule wisely and you will be showered with appreciation at the end of\n",
    "your term. Rule poorly and you will be kicked out of office!''')\n",
    "    "
   ]
  },
  {
   "cell_type": "code",
   "execution_count": 3,
   "metadata": {
    "collapsed": false
   },
   "outputs": [],
   "source": [
    "def hammurabi():\n",
    "    print_introductory_message()\n",
    "    for year in years:\n",
    "        print('O great Hammurabi! You are in year ',year,' of your ten year rule')\n",
    "        print('In the previous year ',starved,' people starved to death.')\n",
    "        print('In the previous year ', immigrants,' people entered the kingdom.')\n",
    "        print('The population is now ',population,'.')\n",
    "        print('We harvested ',harvest,'bushels at ',bushels_per_acre,'bushels per acre.')\n",
    "        print('Rats destoryed', rats_ate,' bushels, leaving', bushels_in_storage,' bushels in storage.')\n",
    "        print('The city owns', acres_owned,' acres of land.')\n",
    "        print('Land is currently worth ', cost_per_acre,' bushels per acre.')\n",
    "        print('There were ',plague_deaths,' deaths from the plague.')\n",
    "        \n",
    "        \n",
    "        "
   ]
  },
  {
   "cell_type": "code",
   "execution_count": 4,
   "metadata": {
    "collapsed": false
   },
   "outputs": [],
   "source": [
    "starved = 0\n",
    "immigrants = 5\n",
    "population = 100\n",
    "harvest = 3000 # total bushels harvested\n",
    "bushels_per_acre = 3 # amount harvested for each acre planted\n",
    "rats_ate = 200 #bushels destoryed by rates\n",
    "bushels_in_storage = 2000 \n",
    "acres_owned = 1000\n",
    "cost_per_acre = 19 # each acre costs this many bushels\n",
    "plague_deaths = 0"
   ]
  },
  {
   "cell_type": "code",
   "execution_count": 5,
   "metadata": {
    "collapsed": false
   },
   "outputs": [],
   "source": [
    "def ask_to_buy_land(bushels, cost):\n",
    "    'Ask user how many bushels to spend buying land.'\n",
    "    acres = cs50.get_int('How many acres will you buy? ')\n",
    "    while acres * cost > bushels:\n",
    "        print ('O great Hammurabi, we have but ', bushels,' bushels of grain!')\n",
    "        acres = cs50.get_int('How much land will you buy? ')\n",
    "    return acres"
   ]
  },
  {
   "cell_type": "code",
   "execution_count": 11,
   "metadata": {
    "collapsed": false
   },
   "outputs": [
    {
     "ename": "NameError",
     "evalue": "name 'acres' is not defined",
     "output_type": "error",
     "traceback": [
      "\u001b[1;31m---------------------------------------------------------------------------\u001b[0m",
      "\u001b[1;31mNameError\u001b[0m                                 Traceback (most recent call last)",
      "\u001b[1;32m<ipython-input-11-d0fff2952555>\u001b[0m in \u001b[0;36m<module>\u001b[1;34m()\u001b[0m\n\u001b[1;32m----> 1\u001b[1;33m \u001b[0macres\u001b[0m\u001b[1;33m\u001b[0m\u001b[0m\n\u001b[0m",
      "\u001b[1;31mNameError\u001b[0m: name 'acres' is not defined"
     ]
    }
   ],
   "source": [
    "acres"
   ]
  },
  {
   "cell_type": "code",
   "execution_count": 7,
   "metadata": {
    "collapsed": false
   },
   "outputs": [
    {
     "name": "stdout",
     "output_type": "stream",
     "text": [
      "How many acres will you buy? "
     ]
    },
    {
     "ename": "TypeError",
     "evalue": "unsupported operand type(s) for *: 'NoneType' and 'int'",
     "output_type": "error",
     "traceback": [
      "\u001b[1;31m---------------------------------------------------------------------------\u001b[0m",
      "\u001b[1;31mTypeError\u001b[0m                                 Traceback (most recent call last)",
      "\u001b[1;32m<ipython-input-7-4328abf764d5>\u001b[0m in \u001b[0;36m<module>\u001b[1;34m()\u001b[0m\n\u001b[1;32m----> 1\u001b[1;33m \u001b[0mask_to_buy_land\u001b[0m\u001b[1;33m(\u001b[0m\u001b[1;36m6\u001b[0m\u001b[1;33m,\u001b[0m\u001b[1;36m2\u001b[0m\u001b[1;33m)\u001b[0m\u001b[1;33m\u001b[0m\u001b[0m\n\u001b[0m",
      "\u001b[1;32m<ipython-input-6-2a185b886601>\u001b[0m in \u001b[0;36mask_to_buy_land\u001b[1;34m(bushels, cost)\u001b[0m\n\u001b[0;32m      2\u001b[0m     \u001b[1;34m'Ask user how many bushels to spend buying land.'\u001b[0m\u001b[1;33m\u001b[0m\u001b[0m\n\u001b[0;32m      3\u001b[0m     \u001b[0macres\u001b[0m \u001b[1;33m=\u001b[0m \u001b[0mcs50\u001b[0m\u001b[1;33m.\u001b[0m\u001b[0mget_int\u001b[0m\u001b[1;33m(\u001b[0m\u001b[1;34m'How many acres will you buy? '\u001b[0m\u001b[1;33m)\u001b[0m\u001b[1;33m\u001b[0m\u001b[0m\n\u001b[1;32m----> 4\u001b[1;33m     \u001b[1;32mwhile\u001b[0m \u001b[0macres\u001b[0m \u001b[1;33m*\u001b[0m \u001b[0mcost\u001b[0m \u001b[1;33m>\u001b[0m \u001b[0mbushels\u001b[0m\u001b[1;33m:\u001b[0m\u001b[1;33m\u001b[0m\u001b[0m\n\u001b[0m\u001b[0;32m      5\u001b[0m         \u001b[0mprint\u001b[0m \u001b[1;33m(\u001b[0m\u001b[1;34m'O great Hammurabi, we have but '\u001b[0m\u001b[1;33m,\u001b[0m \u001b[0mbushels\u001b[0m\u001b[1;33m,\u001b[0m\u001b[1;34m' bushels of grain!'\u001b[0m\u001b[1;33m)\u001b[0m\u001b[1;33m\u001b[0m\u001b[0m\n\u001b[0;32m      6\u001b[0m         \u001b[0macres\u001b[0m \u001b[1;33m=\u001b[0m \u001b[0mcs50\u001b[0m\u001b[1;33m.\u001b[0m\u001b[0mget_int\u001b[0m\u001b[1;33m(\u001b[0m\u001b[1;34m'How much land will you buy? '\u001b[0m\u001b[1;33m)\u001b[0m\u001b[1;33m\u001b[0m\u001b[0m\n",
      "\u001b[1;31mTypeError\u001b[0m: unsupported operand type(s) for *: 'NoneType' and 'int'"
     ]
    }
   ],
   "source": [
    "ask_to_buy_land(6,2)"
   ]
  },
  {
   "cell_type": "code",
   "execution_count": 8,
   "metadata": {
    "collapsed": true
   },
   "outputs": [],
   "source": [
    "def ask_to_sell_land(acres, acres_sold, bushels, cost):\n",
    "    'Ask user how many acres of land to spend buying grain, do not ask if buying land'\n",
    "    if acres_sold > 0:\n",
    "        print('')\n",
    "    else:\n",
    "        bushels = cs50.get_int('How many bushels will you buy?')\n",
    "        while bushels / cost > acres:\n",
    "            print('O great Hammurabi, we have but ', acres,'acres of land!')\n",
    "            bushels = cs50.get_int('How many bushels will you buy?')\n",
    "        return bushels      "
   ]
  },
  {
   "cell_type": "code",
   "execution_count": null,
   "metadata": {
    "collapsed": true
   },
   "outputs": [],
   "source": []
  },
  {
   "cell_type": "code",
   "execution_count": 12,
   "metadata": {
    "collapsed": false
   },
   "outputs": [
    {
     "name": "stdout",
     "output_type": "stream",
     "text": [
      "Congratulations, you are the newest ruler of ancient Samaria, elected\n",
      "for a ten year term of office. Your duties are to dispense food, direct\n",
      "farming, and buy and sell land as needed to support your people. Watch\n",
      "out for rat infestations and the plague! Grain is the general currency,\n",
      "measured in bushels. The following will help you in your decisions:\n",
      "\n",
      "  * Each person needs at least 20 bushels of grain per year to survive.\n",
      "\n",
      "  * Each person can farm at most 10 acres of land.\n",
      "\n",
      "  * It takes 2 bushels of grain to farm an acre of land.\n",
      "\n",
      "  * The market price for land fluctuates yearly.\n",
      "\n",
      "Rule wisely and you will be showered with appreciation at the end of\n",
      "your term. Rule poorly and you will be kicked out of office!\n",
      "O great Hammurabi! You are in year  1  of your ten year rule\n",
      "In the previous year  0  people starved to death.\n",
      "In the previous year  5  people entered the kingdom.\n",
      "The population is now  100 .\n",
      "We harvested  3000 bushels at  3 bushels per acre.\n",
      "Rats destoryed 200  bushels, leaving 2000  bushels in storage.\n",
      "The city owns 1000  acres of land.\n",
      "Land is currently worth  19  bushels per acre.\n",
      "There were  0  deaths from the plague.\n",
      "O great Hammurabi! You are in year  2  of your ten year rule\n",
      "In the previous year  0  people starved to death.\n",
      "In the previous year  5  people entered the kingdom.\n",
      "The population is now  100 .\n",
      "We harvested  3000 bushels at  3 bushels per acre.\n",
      "Rats destoryed 200  bushels, leaving 2000  bushels in storage.\n",
      "The city owns 1000  acres of land.\n",
      "Land is currently worth  19  bushels per acre.\n",
      "There were  0  deaths from the plague.\n",
      "O great Hammurabi! You are in year  3  of your ten year rule\n",
      "In the previous year  0  people starved to death.\n",
      "In the previous year  5  people entered the kingdom.\n",
      "The population is now  100 .\n",
      "We harvested  3000 bushels at  3 bushels per acre.\n",
      "Rats destoryed 200  bushels, leaving 2000  bushels in storage.\n",
      "The city owns 1000  acres of land.\n",
      "Land is currently worth  19  bushels per acre.\n",
      "There were  0  deaths from the plague.\n",
      "O great Hammurabi! You are in year  4  of your ten year rule\n",
      "In the previous year  0  people starved to death.\n",
      "In the previous year  5  people entered the kingdom.\n",
      "The population is now  100 .\n",
      "We harvested  3000 bushels at  3 bushels per acre.\n",
      "Rats destoryed 200  bushels, leaving 2000  bushels in storage.\n",
      "The city owns 1000  acres of land.\n",
      "Land is currently worth  19  bushels per acre.\n",
      "There were  0  deaths from the plague.\n",
      "O great Hammurabi! You are in year  5  of your ten year rule\n",
      "In the previous year  0  people starved to death.\n",
      "In the previous year  5  people entered the kingdom.\n",
      "The population is now  100 .\n",
      "We harvested  3000 bushels at  3 bushels per acre.\n",
      "Rats destoryed 200  bushels, leaving 2000  bushels in storage.\n",
      "The city owns 1000  acres of land.\n",
      "Land is currently worth  19  bushels per acre.\n",
      "There were  0  deaths from the plague.\n",
      "O great Hammurabi! You are in year  6  of your ten year rule\n",
      "In the previous year  0  people starved to death.\n",
      "In the previous year  5  people entered the kingdom.\n",
      "The population is now  100 .\n",
      "We harvested  3000 bushels at  3 bushels per acre.\n",
      "Rats destoryed 200  bushels, leaving 2000  bushels in storage.\n",
      "The city owns 1000  acres of land.\n",
      "Land is currently worth  19  bushels per acre.\n",
      "There were  0  deaths from the plague.\n",
      "O great Hammurabi! You are in year  7  of your ten year rule\n",
      "In the previous year  0  people starved to death.\n",
      "In the previous year  5  people entered the kingdom.\n",
      "The population is now  100 .\n",
      "We harvested  3000 bushels at  3 bushels per acre.\n",
      "Rats destoryed 200  bushels, leaving 2000  bushels in storage.\n",
      "The city owns 1000  acres of land.\n",
      "Land is currently worth  19  bushels per acre.\n",
      "There were  0  deaths from the plague.\n",
      "O great Hammurabi! You are in year  8  of your ten year rule\n",
      "In the previous year  0  people starved to death.\n",
      "In the previous year  5  people entered the kingdom.\n",
      "The population is now  100 .\n",
      "We harvested  3000 bushels at  3 bushels per acre.\n",
      "Rats destoryed 200  bushels, leaving 2000  bushels in storage.\n",
      "The city owns 1000  acres of land.\n",
      "Land is currently worth  19  bushels per acre.\n",
      "There were  0  deaths from the plague.\n",
      "O great Hammurabi! You are in year  9  of your ten year rule\n",
      "In the previous year  0  people starved to death.\n",
      "In the previous year  5  people entered the kingdom.\n",
      "The population is now  100 .\n",
      "We harvested  3000 bushels at  3 bushels per acre.\n",
      "Rats destoryed 200  bushels, leaving 2000  bushels in storage.\n",
      "The city owns 1000  acres of land.\n",
      "Land is currently worth  19  bushels per acre.\n",
      "There were  0  deaths from the plague.\n",
      "O great Hammurabi! You are in year  10  of your ten year rule\n",
      "In the previous year  0  people starved to death.\n",
      "In the previous year  5  people entered the kingdom.\n",
      "The population is now  100 .\n",
      "We harvested  3000 bushels at  3 bushels per acre.\n",
      "Rats destoryed 200  bushels, leaving 2000  bushels in storage.\n",
      "The city owns 1000  acres of land.\n",
      "Land is currently worth  19  bushels per acre.\n",
      "There were  0  deaths from the plague.\n"
     ]
    }
   ],
   "source": [
    "years = [1,2,3,4,5,6,7,8,9,10]\n",
    "hammurabi()"
   ]
  },
  {
   "cell_type": "code",
   "execution_count": null,
   "metadata": {
    "collapsed": true
   },
   "outputs": [],
   "source": []
  }
 ],
 "metadata": {
  "kernelspec": {
   "display_name": "Python 3",
   "language": "python",
   "name": "python3"
  },
  "language_info": {
   "codemirror_mode": {
    "name": "ipython",
    "version": 3
   },
   "file_extension": ".py",
   "mimetype": "text/x-python",
   "name": "python",
   "nbconvert_exporter": "python",
   "pygments_lexer": "ipython3",
   "version": "3.5.1"
  }
 },
 "nbformat": 4,
 "nbformat_minor": 0
}
